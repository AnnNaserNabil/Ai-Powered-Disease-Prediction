{
 "cells": [
  {
   "cell_type": "code",
   "execution_count": 27,
   "id": "0ca2d828-5822-4d3b-84ac-c740e21fbe58",
   "metadata": {},
   "outputs": [
    {
     "name": "stdout",
     "output_type": "stream",
     "text": [
      "Accuracy: 0.9761904761904762\n",
      "Classification Report:\n",
      "                                          precision    recall  f1-score   support\n",
      "\n",
      "(vertigo) Paroymsal  Positional Vertigo       1.00      1.00      1.00         1\n",
      "                                   AIDS       1.00      1.00      1.00         1\n",
      "                                   Acne       1.00      1.00      1.00         1\n",
      "                    Alcoholic hepatitis       1.00      1.00      1.00         1\n",
      "                                Allergy       1.00      1.00      1.00         1\n",
      "                              Arthritis       1.00      1.00      1.00         1\n",
      "                       Bronchial Asthma       1.00      1.00      1.00         1\n",
      "                   Cervical spondylosis       1.00      1.00      1.00         1\n",
      "                            Chicken pox       1.00      1.00      1.00         1\n",
      "                    Chronic cholestasis       1.00      1.00      1.00         1\n",
      "                            Common Cold       1.00      1.00      1.00         1\n",
      "                                 Dengue       1.00      1.00      1.00         1\n",
      "                              Diabetes        1.00      1.00      1.00         1\n",
      "           Dimorphic hemmorhoids(piles)       1.00      1.00      1.00         1\n",
      "                          Drug Reaction       1.00      1.00      1.00         1\n",
      "                       Fungal infection       1.00      0.50      0.67         2\n",
      "                                   GERD       1.00      1.00      1.00         1\n",
      "                        Gastroenteritis       1.00      1.00      1.00         1\n",
      "                           Heart attack       1.00      1.00      1.00         1\n",
      "                            Hepatitis B       1.00      1.00      1.00         1\n",
      "                            Hepatitis C       1.00      1.00      1.00         1\n",
      "                            Hepatitis D       1.00      1.00      1.00         1\n",
      "                            Hepatitis E       1.00      1.00      1.00         1\n",
      "                          Hypertension        1.00      1.00      1.00         1\n",
      "                        Hyperthyroidism       1.00      1.00      1.00         1\n",
      "                           Hypoglycemia       1.00      1.00      1.00         1\n",
      "                         Hypothyroidism       1.00      1.00      1.00         1\n",
      "                               Impetigo       0.50      1.00      0.67         1\n",
      "                               Jaundice       1.00      1.00      1.00         1\n",
      "                                Malaria       1.00      1.00      1.00         1\n",
      "                               Migraine       1.00      1.00      1.00         1\n",
      "                        Osteoarthristis       1.00      1.00      1.00         1\n",
      "           Paralysis (brain hemorrhage)       1.00      1.00      1.00         1\n",
      "                    Peptic ulcer diseae       1.00      1.00      1.00         1\n",
      "                              Pneumonia       1.00      1.00      1.00         1\n",
      "                              Psoriasis       1.00      1.00      1.00         1\n",
      "                           Tuberculosis       1.00      1.00      1.00         1\n",
      "                                Typhoid       1.00      1.00      1.00         1\n",
      "                Urinary tract infection       1.00      1.00      1.00         1\n",
      "                         Varicose veins       1.00      1.00      1.00         1\n",
      "                            hepatitis A       1.00      1.00      1.00         1\n",
      "\n",
      "                               accuracy                           0.98        42\n",
      "                              macro avg       0.99      0.99      0.98        42\n",
      "                           weighted avg       0.99      0.98      0.98        42\n",
      "\n",
      "Model saved as disease_prediction_model.joblib\n"
     ]
    }
   ],
   "source": [
    "import pandas as pd\n",
    "from sklearn.ensemble import RandomForestClassifier\n",
    "from sklearn.metrics import accuracy_score, classification_report\n",
    "import joblib\n",
    "\n",
    "\n",
    "# Load training data\n",
    "train_data = pd.read_csv(\"Training.csv\")\n",
    "\n",
    "# Load testing data\n",
    "test_data = pd.read_csv(\"Testing.csv\")\n",
    "\n",
    "# Drop any columns that are entirely empty or unnecessary\n",
    "train_data.dropna(axis=1, how='all', inplace=True)\n",
    "test_data.dropna(axis=1, how='all', inplace=True)\n",
    "\n",
    "# For training data\n",
    "X_train = train_data.drop(\"prognosis\", axis=1)  # Features\n",
    "y_train = train_data[\"prognosis\"]  # Target\n",
    "\n",
    "# For testing data\n",
    "X_test = test_data.drop(\"prognosis\", axis=1)  # Features\n",
    "y_test = test_data[\"prognosis\"]  # Target\n",
    "\n",
    "\n",
    "\n",
    "# Initialize the model\n",
    "model = RandomForestClassifier(random_state=42)\n",
    "\n",
    "model.fit(X_train, y_train)\n",
    "\n",
    "y_pred = model.predict(X_test)\n",
    "print(\"Accuracy:\", accuracy_score(y_test, y_pred))\n",
    "print(\"Classification Report:\\n\", classification_report(y_test, y_pred))\n",
    "\n",
    "# Step 6: Save the model\n",
    "joblib.dump(model, \"disease_prediction_model.joblib\")\n",
    "print(\"Model saved as disease_prediction_model.joblib\")"
   ]
  },
  {
   "cell_type": "code",
   "execution_count": 34,
   "id": "1348b13b-945b-4b7c-9450-756fb49237ed",
   "metadata": {
    "scrolled": true
   },
   "outputs": [
    {
     "name": "stdout",
     "output_type": "stream",
     "text": [
      "Index(['itching', 'skin_rash', 'nodal_skin_eruptions', 'continuous_sneezing',\n",
      "       'shivering', 'chills', 'joint_pain', 'stomach_pain', 'acidity',\n",
      "       'ulcers_on_tongue',\n",
      "       ...\n",
      "       'blackheads', 'scurring', 'skin_peeling', 'silver_like_dusting',\n",
      "       'small_dents_in_nails', 'inflammatory_nails', 'blister',\n",
      "       'red_sore_around_nose', 'yellow_crust_ooze', 'prognosis'],\n",
      "      dtype='object', length=133)\n",
      "['itching', 'skin_rash', 'nodal_skin_eruptions', 'continuous_sneezing', 'shivering', 'chills', 'joint_pain', 'stomach_pain', 'acidity', 'ulcers_on_tongue', 'muscle_wasting', 'vomiting', 'burning_micturition', 'spotting_ urination', 'fatigue', 'weight_gain', 'anxiety', 'cold_hands_and_feets', 'mood_swings', 'weight_loss', 'restlessness', 'lethargy', 'patches_in_throat', 'irregular_sugar_level', 'cough', 'high_fever', 'sunken_eyes', 'breathlessness', 'sweating', 'dehydration', 'indigestion', 'headache', 'yellowish_skin', 'dark_urine', 'nausea', 'loss_of_appetite', 'pain_behind_the_eyes', 'back_pain', 'constipation', 'abdominal_pain', 'diarrhoea', 'mild_fever', 'yellow_urine', 'yellowing_of_eyes', 'acute_liver_failure', 'fluid_overload', 'swelling_of_stomach', 'swelled_lymph_nodes', 'malaise', 'blurred_and_distorted_vision', 'phlegm', 'throat_irritation', 'redness_of_eyes', 'sinus_pressure', 'runny_nose', 'congestion', 'chest_pain', 'weakness_in_limbs', 'fast_heart_rate', 'pain_during_bowel_movements', 'pain_in_anal_region', 'bloody_stool', 'irritation_in_anus', 'neck_pain', 'dizziness', 'cramps', 'bruising', 'obesity', 'swollen_legs', 'swollen_blood_vessels', 'puffy_face_and_eyes', 'enlarged_thyroid', 'brittle_nails', 'swollen_extremeties', 'excessive_hunger', 'extra_marital_contacts', 'drying_and_tingling_lips', 'slurred_speech', 'knee_pain', 'hip_joint_pain', 'muscle_weakness', 'stiff_neck', 'swelling_joints', 'movement_stiffness', 'spinning_movements', 'loss_of_balance', 'unsteadiness', 'weakness_of_one_body_side', 'loss_of_smell', 'bladder_discomfort', 'foul_smell_of urine', 'continuous_feel_of_urine', 'passage_of_gases', 'internal_itching', 'toxic_look_(typhos)', 'depression', 'irritability', 'muscle_pain', 'altered_sensorium', 'red_spots_over_body', 'belly_pain', 'abnormal_menstruation', 'dischromic _patches', 'watering_from_eyes', 'increased_appetite', 'polyuria', 'family_history', 'mucoid_sputum', 'rusty_sputum', 'lack_of_concentration', 'visual_disturbances', 'receiving_blood_transfusion', 'receiving_unsterile_injections', 'coma', 'stomach_bleeding', 'distention_of_abdomen', 'history_of_alcohol_consumption', 'fluid_overload.1', 'blood_in_sputum', 'prominent_veins_on_calf', 'palpitations', 'painful_walking', 'pus_filled_pimples', 'blackheads', 'scurring', 'skin_peeling', 'silver_like_dusting', 'small_dents_in_nails', 'inflammatory_nails', 'blister', 'red_sore_around_nose', 'yellow_crust_ooze', 'prognosis']\n"
     ]
    }
   ],
   "source": [
    "\n",
    "\n",
    "column_names = test_data.columns\n",
    "print(column_names)\n",
    "column_names = list(test_data.columns)\n",
    "print(column_names)\n",
    "\n",
    "# Output: ['Name', 'Team', 'Number']\n",
    "\n"
   ]
  },
  {
   "cell_type": "code",
   "execution_count": null,
   "id": "38aeacd0-8760-43bd-9941-4cef53a73660",
   "metadata": {},
   "outputs": [],
   "source": []
  }
 ],
 "metadata": {
  "kernelspec": {
   "display_name": "Python 3 (ipykernel)",
   "language": "python",
   "name": "python3"
  },
  "language_info": {
   "codemirror_mode": {
    "name": "ipython",
    "version": 3
   },
   "file_extension": ".py",
   "mimetype": "text/x-python",
   "name": "python",
   "nbconvert_exporter": "python",
   "pygments_lexer": "ipython3",
   "version": "3.11.10"
  }
 },
 "nbformat": 4,
 "nbformat_minor": 5
}
